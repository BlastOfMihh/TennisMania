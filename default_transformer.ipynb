{
  "cells": [
    {
      "cell_type": "markdown",
      "source": [
        "# Hyper Parameters"
      ],
      "metadata": {
        "id": "fhzxJxgtjzrN"
      }
    },
    {
      "cell_type": "code",
      "source": [
        "import torch\n",
        "import torch.nn as nn\n",
        "from torch.nn import functional as F\n",
        "\n",
        "\n",
        "# hyperparameters\n",
        "batch_size = 4 # how many independent sequences will we process in parallel?\n",
        "block_size = 8 # what is the maximum context length for predictions?\n",
        "max_iters = 4000\n",
        "eval_interval = 100\n",
        "learning_rate = 1e-3\n",
        "device = 'cuda' if torch.cuda.is_available() else 'cpu'\n",
        "eval_iters = 200\n",
        "n_embd = 64\n",
        "n_head = 4\n",
        "n_layer = 6\n",
        "dropout = 0.2\n",
        "\n",
        "score_size=3\n",
        "# ------------\n",
        "feel_count=16\n",
        "feel_embd=32\n",
        "# ------------\n",
        "\n",
        "\n",
        "torch.manual_seed(1337)"
      ],
      "metadata": {
        "id": "0TdMs5CMjIvY",
        "outputId": "44b2e7ab-3366-43c8-aebf-5730b17d07bd",
        "colab": {
          "base_uri": "https://localhost:8080/"
        }
      },
      "execution_count": 177,
      "outputs": [
        {
          "output_type": "execute_result",
          "data": {
            "text/plain": [
              "<torch._C.Generator at 0x7d8ef1375b50>"
            ]
          },
          "metadata": {},
          "execution_count": 177
        }
      ]
    },
    {
      "cell_type": "markdown",
      "source": [
        "# Data loading"
      ],
      "metadata": {
        "id": "Q5Yk9RulkNbo"
      }
    },
    {
      "cell_type": "code",
      "execution_count": 178,
      "metadata": {
        "id": "dgJN0y6_IB-X",
        "outputId": "df6d1c80-5a1c-437e-ed66-c2c7d6e1acf8",
        "colab": {
          "base_uri": "https://localhost:8080/"
        }
      },
      "outputs": [
        {
          "output_type": "stream",
          "name": "stdout",
          "text": [
            "--2025-01-17 00:05:11--  https://raw.githubusercontent.com/BlastOfMihh/TennisMania/refs/heads/model/tt%20csv%20artificial.CSV\n",
            "Resolving raw.githubusercontent.com (raw.githubusercontent.com)... 185.199.108.133, 185.199.109.133, 185.199.110.133, ...\n",
            "Connecting to raw.githubusercontent.com (raw.githubusercontent.com)|185.199.108.133|:443... connected.\n",
            "HTTP request sent, awaiting response... 200 OK\n",
            "Length: 3554 (3.5K) [text/plain]\n",
            "Saving to: ‘tt csv artificial.CSV.21’\n",
            "\n",
            "\rtt csv artificial.C   0%[                    ]       0  --.-KB/s               \rtt csv artificial.C 100%[===================>]   3.47K  --.-KB/s    in 0s      \n",
            "\n",
            "2025-01-17 00:05:11 (47.8 MB/s) - ‘tt csv artificial.CSV.21’ saved [3554/3554]\n",
            "\n",
            "75 124 49\n"
          ]
        }
      ],
      "source": [
        "from google.colab import drive\n",
        "import pandas as pd\n",
        "\n",
        "#drive.mount('/content/drive')\n",
        "#with open(\"/content/drive/MyDrive/LLm fighthing/karamazov.txt\", \"r\", encoding=\"utf-8\") as f:\n",
        "#  text=f.read()\n",
        "\n",
        "!wget \"https://raw.githubusercontent.com/BlastOfMihh/TennisMania/refs/heads/model/tt%20csv%20artificial.CSV\"\n",
        "one_csv_path=\"./tt csv artificial.CSV\"\n",
        "\n",
        "df=pd.read_csv(one_csv_path)\n",
        "df = df.drop(df.columns[0], axis=1)\n",
        "df\n",
        "\n",
        "hb_column = df.iloc[:, 0]\n",
        "min_hb = hb_column.min()\n",
        "max_hb = hb_column.max()\n",
        "diff_hb = max_hb - min_hb + 1\n",
        "print(min_hb, max_hb, max_hb-min_hb)\n",
        "\n",
        "\n"
      ]
    },
    {
      "source": [
        "first_column = df.iloc[:, 0]"
      ],
      "cell_type": "code",
      "metadata": {
        "id": "hjQvmqwag_Wc"
      },
      "execution_count": 179,
      "outputs": []
    },
    {
      "cell_type": "markdown",
      "source": [
        "#Creating the dataset, Encoder, Decoder\n"
      ],
      "metadata": {
        "id": "0RAxnyLIegE-"
      }
    },
    {
      "cell_type": "code",
      "source": [
        "# here are all the unique characters that occur in this text\n",
        "#chars = sorted(list(set(text)))\n",
        "# chars=[]\n",
        "# heart_beat_min = df.iloc[:, 0].min()\n",
        "# heart_beat_max = df.iloc[:, 0].max()\n",
        "# for hb in range(heart_beat_min, heart_beat_max):\n",
        "#   for p1 in range(0,12):\n",
        "#     for p1 in range(0,12):\n",
        "#       chars.append()\n",
        "#\n",
        "# def encode_(hb, p1, p2):\n",
        "#   return hb*1000+p2*100+p1\n",
        "#\n",
        "#\n",
        "# for i in range(60)\n",
        "#\n",
        "# vocab_size = len(chars)\n",
        "# # create a mapping from characters to integers\n",
        "# stoi = { ch:i for i,ch in enumerate(chars) }\n",
        "# itos = { i:ch for i,ch in enumerate(chars) }\n",
        "# encode = lambda s: [stoi[c] for c in s] # encoder: take a string, output a list of integers\n",
        "# decode = lambda l: ''.join([itos[i] for i in l]) # decoder: take a list of integers, output a string\n",
        "\n",
        "# Train and test splits\n",
        "#data = torch.tensor(encode(text), dtype=torch.long)\n",
        "\n",
        "\n",
        "\n",
        "\n",
        "\n",
        "csv_tensor=torch.tensor(df.values)\n",
        "\n",
        "\n",
        "data = torch.stack([csv_tensor]*100, dim=0).to(device)\n",
        "\n",
        "n = int(0.9*len(data)) # first 90% will be train, rest val\n",
        "train_data = data[:n]\n",
        "val_data = data[n:]\n",
        "\n",
        "# data loading\n",
        "def pick_block(x):\n",
        "  start=torch.randint(0, len(x)-block_size+1 -1, (1,))\n",
        "  return x[start:start+block_size-1],  x[start+1:start+block_size-1+1]\n",
        "\n",
        "def get_batch(split):\n",
        "    # generate a small batch of data of inputs x and targets y\n",
        "    data = train_data if split == 'train' else val_data\n",
        "\n",
        "    ix = torch.randint(0, len(data), (batch_size,))\n",
        "\n",
        "    data_blocks=[pick_block(data[i]) for i in ix]\n",
        "    x=torch.stack([block[0] for block in data_blocks], dim=0).to(device)\n",
        "    y=torch.stack([block[1] for block in data_blocks], dim=0).to(device)\n",
        "\n",
        "    return x, y\n",
        "\n",
        "get_batch('train')[0].shape\n",
        "\n"
      ],
      "metadata": {
        "id": "wm1JwxmLehx0",
        "outputId": "388ac48b-dfd3-4691-e3f3-a9bfc41400da",
        "colab": {
          "base_uri": "https://localhost:8080/"
        }
      },
      "execution_count": 180,
      "outputs": [
        {
          "output_type": "execute_result",
          "data": {
            "text/plain": [
              "torch.Size([4, 7, 3])"
            ]
          },
          "metadata": {},
          "execution_count": 180
        }
      ]
    },
    {
      "cell_type": "markdown",
      "source": [
        "# F Model\n"
      ],
      "metadata": {
        "id": "HU12R4dqeqOw"
      }
    },
    {
      "cell_type": "code",
      "source": [
        "# The feel stuff\n",
        "class FeelHead(nn.Module):\n",
        "    \"\"\" one head of self-attention \"\"\"\n",
        "    def __init__(self, head_size):\n",
        "        super().__init__()\n",
        "        self.query = nn.Linear(n_embd, head_size, bias=False)\n",
        "        self.key = nn.Linear(feel_embd, head_size, bias=False)\n",
        "\n",
        "        self.value = nn.Linear(feel_embd, head_size, bias=False)\n",
        "\n",
        "        self.feelings = torch.rand(feel_count, feel_embd).to(device)\n",
        "\n",
        "        #self.register_buffer('tril', torch.tril(torch.ones(block_size, block_size)))\n",
        "        self.dropout = nn.Dropout(dropout)\n",
        "\n",
        "    def forward(self, x):\n",
        "        B,T,C = x.shape\n",
        "        q = self.query(x) # (B,T,C)\n",
        "\n",
        "        k = self.key(self.feelings) # (f_cnt, C)\n",
        "        k = k.expand(B, -1,-1) # (B, F_cnt, C)\n",
        "\n",
        "        # compute attention scores (\"affinities\")\n",
        "        wei = q @ k.transpose(-2,-1) * C**-0.5 # (B, T, C) @ (B, C, F_cnt) -> (B, T, F_cnt)\n",
        "        #wei = wei.masked_fill(self.tril[:T, :T] == 0, float('-inf')) # (B, T, )\n",
        "        wei = F.softmax(wei, dim=-1) # (B, T, T)\n",
        "        wei = self.dropout(wei)\n",
        "        # perform the weighted aggregation of the values\n",
        "        v = self.value(self.feelings) # (f_cnt, C)\n",
        "        v = v.expand(B,-1,-1) # (B, F_cnt, C)\n",
        "        out = wei @ v # (B, T, F_cnt) @ (B, F_cnt, C) -> (B, T, C)\n",
        "        return out\n",
        "\n",
        "\n",
        "class MultiHeadFeeling(nn.Module):\n",
        "    \"\"\" multiple heads of self-attention in parallel \"\"\"\n",
        "\n",
        "    def __init__(self, num_heads, head_size):\n",
        "        super().__init__()\n",
        "        self.heads = nn.ModuleList([FeelHead(head_size) for _ in range(num_heads)])\n",
        "        self.proj = nn.Linear(n_embd, n_embd)\n",
        "        self.dropout = nn.Dropout(dropout)\n",
        "\n",
        "    def forward(self, x):\n",
        "        out = torch.cat([h(x) for h in self.heads], dim=-1)\n",
        "        out = self.dropout(self.proj(out))\n",
        "        return out"
      ],
      "metadata": {
        "id": "ynNnlYyEi1bP"
      },
      "execution_count": 181,
      "outputs": []
    },
    {
      "cell_type": "markdown",
      "source": [
        "# Model Regular"
      ],
      "metadata": {
        "id": "Je_X6PsN0qk3"
      }
    },
    {
      "cell_type": "code",
      "source": [
        "class Head(nn.Module):\n",
        "    \"\"\" one head of self-attention \"\"\"\n",
        "    def __init__(self, head_size):\n",
        "        super().__init__()\n",
        "        self.key = nn.Linear(n_embd, head_size, bias=False)\n",
        "        self.query = nn.Linear(n_embd, head_size, bias=False)\n",
        "        self.value = nn.Linear(n_embd, head_size, bias=False)\n",
        "        self.register_buffer('tril', torch.tril(torch.ones(block_size, block_size)))\n",
        "\n",
        "        self.dropout = nn.Dropout(dropout)\n",
        "\n",
        "    def forward(self, x):\n",
        "        B,T,C = x.shape\n",
        "        k = self.key(x)   # (B,T,C)\n",
        "        q = self.query(x) # (B,T,C)\n",
        "        # compute attention scores (\"affinities\")\n",
        "        wei = q @ k.transpose(-2,-1) * C**-0.5 # (B, T, C) @ (B, C, T) -> (B, T, T)\n",
        "        wei = wei.masked_fill(self.tril[:T, :T] == 0, float('-inf')) # (B, T, T)\n",
        "        wei = F.softmax(wei, dim=-1) # (B, T, T)\n",
        "        wei = self.dropout(wei)\n",
        "        # perform the weighted aggregation of the values\n",
        "        v = self.value(x) # (B,T,C)\n",
        "        out = wei @ v # (B, T, T) @ (B, T, C) -> (B, T, C)\n",
        "        return out\n",
        "\n",
        "class MultiHeadAttention(nn.Module):\n",
        "    \"\"\" multiple heads of self-attention in parallel \"\"\"\n",
        "\n",
        "    def __init__(self, num_heads, head_size):\n",
        "        super().__init__()\n",
        "        self.heads = nn.ModuleList([Head(head_size) for _ in range(num_heads)])\n",
        "        self.proj = nn.Linear(n_embd, n_embd)\n",
        "        self.dropout = nn.Dropout(dropout)\n",
        "\n",
        "    def forward(self, x):\n",
        "        out = torch.cat([h(x) for h in self.heads], dim=-1)\n",
        "        out = self.dropout(self.proj(out))\n",
        "        return out\n",
        "\n",
        "class FeedFoward(nn.Module):\n",
        "    \"\"\" a simple linear layer followed by a non-linearity \"\"\"\n",
        "\n",
        "    def __init__(self, n_embd):\n",
        "        super().__init__()\n",
        "        self.net = nn.Sequential(\n",
        "            nn.Linear(n_embd, 4 * n_embd),\n",
        "            nn.ReLU(),\n",
        "            nn.Linear(4 * n_embd, n_embd),\n",
        "            nn.Dropout(dropout),\n",
        "        )\n",
        "\n",
        "    def forward(self, x):\n",
        "        return self.net(x)\n",
        "\n",
        "class Block(nn.Module):\n",
        "    \"\"\" Transformer block: communication followed by computation \"\"\"\n",
        "\n",
        "    def __init__(self, n_embd, n_head, model_type):\n",
        "        # n_embd: embedding dimension, n_head: the number of heads we'd like\n",
        "        super().__init__()\n",
        "        head_size = n_embd // n_head\n",
        "        self.sa = MultiHeadAttention(n_head, head_size)\n",
        "        self.ln1 = nn.LayerNorm(n_embd)\n",
        "\n",
        "        self.ffwd = FeedFoward(n_embd)\n",
        "        self.ln2 = nn.LayerNorm(n_embd)\n",
        "\n",
        "        self.model_type=model_type\n",
        "        if model_type=='feel':\n",
        "          self.mh_feel=MultiHeadFeeling(n_head, head_size)\n",
        "          self.ln3 = nn.LayerNorm(n_embd)\n",
        "\n",
        "    def forward(self, x):\n",
        "        x = x + self.sa(self.ln1(x))\n",
        "        if self.model_type=='feel':\n",
        "          x = x + self.mh_feel(self.ln3(x))\n",
        "        x = x + self.ffwd(self.ln2(x))\n",
        "        return x\n",
        "\n",
        "\n",
        "# super simple bigram model\n",
        "class BigramLanguageModel(nn.Module):\n",
        "\n",
        "    def __init__(self, model_type):\n",
        "        super().__init__()\n",
        "        # each token directly reads off the logits for the next token from a lookup table\n",
        "        self.token_embedding_table = nn.Linear(score_size, n_embd) # changed this\n",
        "        self.position_embedding_table = nn.Embedding(block_size, n_embd)\n",
        "        self.blocks = nn.Sequential(*[Block(n_embd, n_head=n_head, model_type=model_type) for _ in range(n_layer)])\n",
        "        self.ln_f = nn.LayerNorm(n_embd) # final layer norm\n",
        "        self.lm_head = nn.Linear(n_embd, diff_hb+12+12)\n",
        "\n",
        "    def forward(self, idx, targets=None):\n",
        "        B, T, _= idx.shape\n",
        "        idx=idx.to(torch.float32)\n",
        "        # idx and targets are both (B,T,3) tensor of integers\n",
        "        tok_emb = self.token_embedding_table(idx) # (B,T,C)\n",
        "        pos_emb = self.position_embedding_table(torch.arange(T, device=device)) # (T,C)\n",
        "        x = tok_emb + pos_emb # (B,T,C)\n",
        "        x = self.blocks(x) # (B,T,C)\n",
        "        x = self.ln_f(x) # (B,T,C)\n",
        "        logits = self.lm_head(x) # (B,T,3)\n",
        "\n",
        "        if targets is None:\n",
        "            loss = None\n",
        "\n",
        "            logits_hb = logits[:, :, :diff_hb]\n",
        "            logits_p1 = logits[:, :, diff_hb:diff_hb+12]\n",
        "            logits_p2 = logits[:, :, diff_hb+12:diff_hb+12+12]\n",
        "        else:\n",
        "            B, T, C = logits.shape\n",
        "\n",
        "            logits_hb = logits[:, :, :diff_hb].view(B*T, diff_hb)\n",
        "            logits_p1 = logits[:, :, diff_hb:diff_hb+12].view(B*T, 12)\n",
        "            logits_p2 = logits[:, :, diff_hb+12:diff_hb+12+12].view(B*T, 12)\n",
        "\n",
        "            targets_hb = targets[:, :, 0:1].view(B*T)\n",
        "            targets_p1 = targets[:, :, 1:2].view(B*T)\n",
        "            targets_p2 = targets[:, :, 2:3].view(B*T)\n",
        "\n",
        "            loss_hb = F.cross_entropy(logits_hb, targets_hb-torch.full((B*T,),min_hb))\n",
        "            loss_p1 = F.cross_entropy(logits_p1, targets_p1)\n",
        "            loss_p2 = F.cross_entropy(logits_p2, targets_p2)\n",
        "\n",
        "            loss = loss_hb + loss_p1 + loss_p2\n",
        "\n",
        "\n",
        "#            logits = logits.view(B*T, C)\n",
        "#            targets = targets.view(B*T)\n",
        "\n",
        "            #loss =  F.mse_loss(logits, targets) # changed this ?\n",
        "            #loss = F.cross_entropy(logits, targets)\n",
        "        return (logits_hb, logits_p1, logits_p2), loss\n",
        "\n",
        "    def generate(self, idx, max_new_tokens):\n",
        "        # idx is (B, T) array of indices in the current context\n",
        "        for _ in range(max_new_tokens):\n",
        "            # crop idx to the last block_size tokens\n",
        "            idx_cond = idx[:, -block_size:]\n",
        "            # get the predictions\n",
        "            (logits_hb, logits_p1, logits_p2), loss = self(idx_cond)\n",
        "            # focus only on the last time step\n",
        "            logits_hb = logits_hb[:, -1, :] # becomes (B, C)\n",
        "            logits_p1 = logits_p1[:, -1, :] # becomes (B, C)\n",
        "            logits_p2 = logits_p2[:, -1, :] # becomes (B, C)\n",
        "            # apply softmax to get probabilities\n",
        "            probs_hb = F.softmax(logits_hb, dim=-1) # (B, C)\n",
        "            probs_p1 = F.softmax(logits_p1, dim=-1) # (B, C)\n",
        "            probs_p2 = F.softmax(logits_p2, dim=-1) # (B, C)\n",
        "            # sample from the distribution\n",
        "            hb_next = torch.multinomial(probs_hb, num_samples=1) # (B, 1)\n",
        "            p1_next = torch.multinomial(probs_p1, num_samples=1) # (B, 1)\n",
        "            p2_next = torch.multinomial(probs_p2, num_samples=1) # (B, 1)\n",
        "\n",
        "            idx_next = torch.stack([hb_next,p1_next,p2_next], dim=-1)\n",
        "            # breakpoint()\n",
        "            # append sampled index to the running sequence\n",
        "            idx = torch.cat((idx, idx_next), dim=1) # (B, T+1)\n",
        "        return idx\n",
        "\n",
        "model_sdf = BigramLanguageModel('regular').to(device)\n",
        "\n",
        "idx=torch.stack([torch.stack([torch.tensor([85.0, 0.0, 0.0])]).to(device)])\n",
        "model_sdf.generate(idx, 10)\n",
        "\n",
        "#m = model.to(device)\n",
        "# print the number of parameters in the model\n",
        "#print(sum(p.numel() for p in m.parameters())/1e6, 'M parameters')\n",
        "\n"
      ],
      "metadata": {
        "id": "7hIAkhOHenNa",
        "colab": {
          "base_uri": "https://localhost:8080/"
        },
        "outputId": "1753ddd4-0388-496e-d146-ca7010366c49"
      },
      "execution_count": 182,
      "outputs": [
        {
          "output_type": "execute_result",
          "data": {
            "text/plain": [
              "tensor([[[85.,  0.,  0.],\n",
              "         [38.,  9.,  1.],\n",
              "         [ 9.,  3., 11.],\n",
              "         [ 0.,  0.,  1.],\n",
              "         [23.,  4.,  0.],\n",
              "         [35.,  9., 10.],\n",
              "         [26., 11.,  6.],\n",
              "         [26.,  5.,  4.],\n",
              "         [48., 10.,  4.],\n",
              "         [19.,  8.,  4.],\n",
              "         [ 9., 11.,  6.]]])"
            ]
          },
          "metadata": {},
          "execution_count": 182
        }
      ]
    },
    {
      "cell_type": "markdown",
      "source": [
        "#Training and loss estimation functions\n"
      ],
      "metadata": {
        "id": "lgcpT2pWe5OV"
      }
    },
    {
      "cell_type": "code",
      "source": [
        "@torch.no_grad()\n",
        "def estimate_loss(model):\n",
        "    out = {}\n",
        "    model.eval()\n",
        "    for split in ['train', 'val']:\n",
        "        losses = torch.zeros(eval_iters)\n",
        "        for k in range(eval_iters):\n",
        "            X, Y = get_batch(split)\n",
        "            logits, loss = model(X, Y)\n",
        "            losses[k] = loss.item()\n",
        "        out[split] = losses.mean()\n",
        "    model.train()\n",
        "    return out\n",
        "\n",
        "# create a PyTorch optimizer\n",
        "def get_optimizer(model):\n",
        "  return torch.optim.AdamW(model.parameters(), lr=learning_rate)\n",
        "\n",
        "def train_model(model, optimizer, history):\n",
        "  for iter in range(max_iters):\n",
        "\n",
        "      # every once in a while evaluate the loss on train and val sets\n",
        "      if iter % eval_interval == 0 or iter == max_iters - 1:\n",
        "          losses = estimate_loss(model)\n",
        "          print(f\"step {iter}: train loss {losses['train']:.4f}, val loss {losses['val']:.4f}\")\n",
        "          history['train'].append(losses['train'])\n",
        "          history['val'].append(losses['val'])\n",
        "\n",
        "      # sample a batch of data\n",
        "      xb, yb = get_batch('train')\n",
        "\n",
        "      # evaluate the loss\n",
        "      _, loss = model(xb, yb)\n",
        "      optimizer.zero_grad(set_to_none=True)\n",
        "      loss.backward()\n",
        "      optimizer.step()\n",
        "\n",
        "def generate_from_model(m):\n",
        "  # generate from the model\n",
        "  context = torch.zeros((1, 1), dtype=torch.long, device=device)\n",
        "  print((m.generate(context, max_new_tokens=2000)[0].tolist()))\n"
      ],
      "metadata": {
        "id": "otjwJ-5Be9HN"
      },
      "execution_count": 183,
      "outputs": []
    },
    {
      "cell_type": "markdown",
      "source": [
        "#Plotting and comparisions"
      ],
      "metadata": {
        "id": "hQ3Us6N-fn1g"
      }
    },
    {
      "cell_type": "code",
      "source": [
        "history_regular={\n",
        "  'train':[],\n",
        "  'val':[]\n",
        "}\n",
        "history_feel={\n",
        "  'train':[],\n",
        "  'val':[]\n",
        "}"
      ],
      "metadata": {
        "id": "StHzo3IFfRWQ"
      },
      "execution_count": 184,
      "outputs": []
    },
    {
      "cell_type": "code",
      "source": [
        "model_regular = BigramLanguageModel('regular').to(device)\n",
        "model_feel = BigramLanguageModel('feel').to(device)"
      ],
      "metadata": {
        "id": "URITk4f_g01v"
      },
      "execution_count": 185,
      "outputs": []
    },
    {
      "cell_type": "code",
      "source": [
        "optimizer_regular=get_optimizer(model_regular)\n",
        "#optimizer_feel=get_optimizer(model_feel)"
      ],
      "metadata": {
        "id": "vtyTCqg6hWPU"
      },
      "execution_count": 186,
      "outputs": []
    },
    {
      "cell_type": "code",
      "source": [
        "#train_model(model_feel, optimizer_feel, history_feel)\n",
        "train_model(model_regular, optimizer_regular, history_regular)"
      ],
      "metadata": {
        "colab": {
          "base_uri": "https://localhost:8080/",
          "height": 440
        },
        "id": "HM7lA73uhhNt",
        "outputId": "6195aa11-22bc-45a8-f786-24cce39b4c0f"
      },
      "execution_count": 193,
      "outputs": [
        {
          "output_type": "stream",
          "name": "stdout",
          "text": [
            "step 0: train loss 3.0020, val loss 2.9880\n",
            "step 100: train loss 3.0299, val loss 2.9994\n",
            "step 200: train loss 2.9985, val loss 3.0082\n",
            "step 300: train loss 2.9813, val loss 2.9939\n",
            "step 400: train loss 2.9253, val loss 2.9441\n"
          ]
        },
        {
          "output_type": "error",
          "ename": "KeyboardInterrupt",
          "evalue": "",
          "traceback": [
            "\u001b[0;31m---------------------------------------------------------------------------\u001b[0m",
            "\u001b[0;31mKeyboardInterrupt\u001b[0m                         Traceback (most recent call last)",
            "\u001b[0;32m<ipython-input-193-8308e41b4da2>\u001b[0m in \u001b[0;36m<cell line: 0>\u001b[0;34m()\u001b[0m\n\u001b[1;32m      1\u001b[0m \u001b[0;31m#train_model(model_feel, optimizer_feel, history_feel)\u001b[0m\u001b[0;34m\u001b[0m\u001b[0;34m\u001b[0m\u001b[0m\n\u001b[0;32m----> 2\u001b[0;31m \u001b[0mtrain_model\u001b[0m\u001b[0;34m(\u001b[0m\u001b[0mmodel_regular\u001b[0m\u001b[0;34m,\u001b[0m \u001b[0moptimizer_regular\u001b[0m\u001b[0;34m,\u001b[0m \u001b[0mhistory_regular\u001b[0m\u001b[0;34m)\u001b[0m\u001b[0;34m\u001b[0m\u001b[0;34m\u001b[0m\u001b[0m\n\u001b[0m",
            "\u001b[0;32m<ipython-input-183-3ee1f901067e>\u001b[0m in \u001b[0;36mtrain_model\u001b[0;34m(model, optimizer, history)\u001b[0m\n\u001b[1;32m     33\u001b[0m       \u001b[0m_\u001b[0m\u001b[0;34m,\u001b[0m \u001b[0mloss\u001b[0m \u001b[0;34m=\u001b[0m \u001b[0mmodel\u001b[0m\u001b[0;34m(\u001b[0m\u001b[0mxb\u001b[0m\u001b[0;34m,\u001b[0m \u001b[0myb\u001b[0m\u001b[0;34m)\u001b[0m\u001b[0;34m\u001b[0m\u001b[0;34m\u001b[0m\u001b[0m\n\u001b[1;32m     34\u001b[0m       \u001b[0moptimizer\u001b[0m\u001b[0;34m.\u001b[0m\u001b[0mzero_grad\u001b[0m\u001b[0;34m(\u001b[0m\u001b[0mset_to_none\u001b[0m\u001b[0;34m=\u001b[0m\u001b[0;32mTrue\u001b[0m\u001b[0;34m)\u001b[0m\u001b[0;34m\u001b[0m\u001b[0;34m\u001b[0m\u001b[0m\n\u001b[0;32m---> 35\u001b[0;31m       \u001b[0mloss\u001b[0m\u001b[0;34m.\u001b[0m\u001b[0mbackward\u001b[0m\u001b[0;34m(\u001b[0m\u001b[0;34m)\u001b[0m\u001b[0;34m\u001b[0m\u001b[0;34m\u001b[0m\u001b[0m\n\u001b[0m\u001b[1;32m     36\u001b[0m       \u001b[0moptimizer\u001b[0m\u001b[0;34m.\u001b[0m\u001b[0mstep\u001b[0m\u001b[0;34m(\u001b[0m\u001b[0;34m)\u001b[0m\u001b[0;34m\u001b[0m\u001b[0;34m\u001b[0m\u001b[0m\n\u001b[1;32m     37\u001b[0m \u001b[0;34m\u001b[0m\u001b[0m\n",
            "\u001b[0;32m/usr/local/lib/python3.11/dist-packages/torch/_tensor.py\u001b[0m in \u001b[0;36mbackward\u001b[0;34m(self, gradient, retain_graph, create_graph, inputs)\u001b[0m\n\u001b[1;32m    579\u001b[0m                 \u001b[0minputs\u001b[0m\u001b[0;34m=\u001b[0m\u001b[0minputs\u001b[0m\u001b[0;34m,\u001b[0m\u001b[0;34m\u001b[0m\u001b[0;34m\u001b[0m\u001b[0m\n\u001b[1;32m    580\u001b[0m             )\n\u001b[0;32m--> 581\u001b[0;31m         torch.autograd.backward(\n\u001b[0m\u001b[1;32m    582\u001b[0m             \u001b[0mself\u001b[0m\u001b[0;34m,\u001b[0m \u001b[0mgradient\u001b[0m\u001b[0;34m,\u001b[0m \u001b[0mretain_graph\u001b[0m\u001b[0;34m,\u001b[0m \u001b[0mcreate_graph\u001b[0m\u001b[0;34m,\u001b[0m \u001b[0minputs\u001b[0m\u001b[0;34m=\u001b[0m\u001b[0minputs\u001b[0m\u001b[0;34m\u001b[0m\u001b[0;34m\u001b[0m\u001b[0m\n\u001b[1;32m    583\u001b[0m         )\n",
            "\u001b[0;32m/usr/local/lib/python3.11/dist-packages/torch/autograd/__init__.py\u001b[0m in \u001b[0;36mbackward\u001b[0;34m(tensors, grad_tensors, retain_graph, create_graph, grad_variables, inputs)\u001b[0m\n\u001b[1;32m    345\u001b[0m     \u001b[0;31m# some Python versions print out the first line of a multi-line function\u001b[0m\u001b[0;34m\u001b[0m\u001b[0;34m\u001b[0m\u001b[0m\n\u001b[1;32m    346\u001b[0m     \u001b[0;31m# calls in the traceback and some print out the last line\u001b[0m\u001b[0;34m\u001b[0m\u001b[0;34m\u001b[0m\u001b[0m\n\u001b[0;32m--> 347\u001b[0;31m     _engine_run_backward(\n\u001b[0m\u001b[1;32m    348\u001b[0m         \u001b[0mtensors\u001b[0m\u001b[0;34m,\u001b[0m\u001b[0;34m\u001b[0m\u001b[0;34m\u001b[0m\u001b[0m\n\u001b[1;32m    349\u001b[0m         \u001b[0mgrad_tensors_\u001b[0m\u001b[0;34m,\u001b[0m\u001b[0;34m\u001b[0m\u001b[0;34m\u001b[0m\u001b[0m\n",
            "\u001b[0;32m/usr/local/lib/python3.11/dist-packages/torch/autograd/graph.py\u001b[0m in \u001b[0;36m_engine_run_backward\u001b[0;34m(t_outputs, *args, **kwargs)\u001b[0m\n\u001b[1;32m    823\u001b[0m         \u001b[0munregister_hooks\u001b[0m \u001b[0;34m=\u001b[0m \u001b[0m_register_logging_hooks_on_whole_graph\u001b[0m\u001b[0;34m(\u001b[0m\u001b[0mt_outputs\u001b[0m\u001b[0;34m)\u001b[0m\u001b[0;34m\u001b[0m\u001b[0;34m\u001b[0m\u001b[0m\n\u001b[1;32m    824\u001b[0m     \u001b[0;32mtry\u001b[0m\u001b[0;34m:\u001b[0m\u001b[0;34m\u001b[0m\u001b[0;34m\u001b[0m\u001b[0m\n\u001b[0;32m--> 825\u001b[0;31m         return Variable._execution_engine.run_backward(  # Calls into the C++ engine to run the backward pass\n\u001b[0m\u001b[1;32m    826\u001b[0m             \u001b[0mt_outputs\u001b[0m\u001b[0;34m,\u001b[0m \u001b[0;34m*\u001b[0m\u001b[0margs\u001b[0m\u001b[0;34m,\u001b[0m \u001b[0;34m**\u001b[0m\u001b[0mkwargs\u001b[0m\u001b[0;34m\u001b[0m\u001b[0;34m\u001b[0m\u001b[0m\n\u001b[1;32m    827\u001b[0m         )  # Calls into the C++ engine to run the backward pass\n",
            "\u001b[0;31mKeyboardInterrupt\u001b[0m: "
          ]
        }
      ]
    },
    {
      "cell_type": "code",
      "source": [
        "import matplotlib.pyplot as plt\n",
        "\n",
        "plt.plot(history_regular['train'], label='Regular Train Loss', color='blue')\n",
        "plt.plot(history_regular['val'], label='Regular Validation Loss', color='lightblue')\n",
        "\n",
        "#plt.plot(history_feel['train'], label='Feel Train Loss', color='red')\n",
        "#plt.plot(history_feel['val'], label='Feel Validation Loss', color='salmon')\n",
        "\n",
        "plt.xlabel('Iteration')\n",
        "plt.ylabel('Loss')\n",
        "plt.title('Training and Validation Loss History')\n",
        "plt.legend()\n",
        "plt.show()"
      ],
      "metadata": {
        "id": "crqoJymEh4mj",
        "colab": {
          "base_uri": "https://localhost:8080/",
          "height": 472
        },
        "outputId": "b7a6b574-c7e4-4151-aef1-5444a1583c2a"
      },
      "execution_count": 188,
      "outputs": [
        {
          "output_type": "display_data",
          "data": {
            "text/plain": [
              "<Figure size 640x480 with 1 Axes>"
            ],
            "image/png": "[encoded data removed]"
          },
          "metadata": {}
        }
      ]
    },
    {
      "cell_type": "code",
      "source": [
        "\n",
        "context=torch.stack([torch.stack([torch.tensor([85.0, 0.0, 0.0])]).to(device)])\n",
        "generated_sequence = model_regular.generate(context, max_new_tokens=20)[0].tolist()\n",
        "generated_sequence\n",
        "\n"
      ],
      "metadata": {
        "id": "zemqMN-eoQ95",
        "outputId": "271e60dd-f4e4-4bfe-c2db-4195a9e6b270",
        "colab": {
          "base_uri": "https://localhost:8080/"
        }
      },
      "execution_count": 192,
      "outputs": [
        {
          "output_type": "execute_result",
          "data": {
            "text/plain": [
              "[[85.0, 0.0, 0.0],\n",
              " [5.0, 0.0, 0.0],\n",
              " [8.0, 1.0, 0.0],\n",
              " [8.0, 2.0, 0.0],\n",
              " [12.0, 2.0, 0.0],\n",
              " [2.0, 1.0, 0.0],\n",
              " [7.0, 2.0, 0.0],\n",
              " [7.0, 2.0, 0.0],\n",
              " [14.0, 1.0, 0.0],\n",
              " [9.0, 5.0, 0.0],\n",
              " [3.0, 1.0, 0.0],\n",
              " [11.0, 1.0, 0.0],\n",
              " [14.0, 8.0, 4.0],\n",
              " [33.0, 9.0, 4.0],\n",
              " [33.0, 10.0, 4.0],\n",
              " [35.0, 10.0, 4.0],\n",
              " [16.0, 10.0, 4.0],\n",
              " [35.0, 10.0, 4.0],\n",
              " [4.0, 8.0, 4.0],\n",
              " [33.0, 10.0, 4.0],\n",
              " [33.0, 10.0, 4.0]]"
            ]
          },
          "metadata": {},
          "execution_count": 192
        }
      ]
    },
    {
      "cell_type": "code",
      "source": [
        "import pickle\n",
        "\n",
        "# Assuming 'model_regular' is your trained model\n",
        "with open('model_regular.pkl', 'wb') as f:\n",
        "    pickle.dump(model_regular, f)"
      ],
      "metadata": {
        "id": "o5eTcoaxvTwz"
      },
      "execution_count": null,
      "outputs": []
    },
    {
      "cell_type": "code",
      "source": [
        "sth=torch.stack([\n",
        "        torch.tensor([85, 11, 12 ]),\n",
        "        torch.tensor([95, 21, 22 ]) ,\n",
        "        torch.tensor([105, 31, 32])\n",
        "        ]\n",
        "                 ).to(device)\n",
        "\n",
        "sth.shape\n",
        "\n",
        "one=sth[:, 0:1]\n",
        "two=sth[:, 1:2]\n",
        "three=sth[:, 2:3]\n",
        "\n",
        "torch.cat([one,two, three], dim=-1)"
      ],
      "metadata": {
        "id": "ezW_FqW20r8y"
      },
      "execution_count": null,
      "outputs": []
    }
  ],
  "metadata": {
    "accelerator": "GPU",
    "colab": {
      "gpuType": "T4",
      "provenance": []
    },
    "kernelspec": {
      "display_name": "Python 3",
      "name": "python3"
    },
    "language_info": {
      "name": "python"
    }
  },
  "nbformat": 4,
  "nbformat_minor": 0
}