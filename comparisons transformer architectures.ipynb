{
  "cells": [
    {
      "cell_type": "markdown",
      "source": [
        "# Hyper Parameters"
      ],
      "metadata": {
        "id": "fhzxJxgtjzrN"
      }
    },
    {
      "cell_type": "code",
      "source": [
        "import torch\n",
        "import torch.nn as nn\n",
        "from torch.nn import functional as F\n",
        "\n",
        "\n",
        "# hyperparameters\n",
        "batch_size = 8 # how many independent sequences will we process in parallel?\n",
        "block_size = 32 # what is the maximum context length for predictions?\n",
        "max_iters = 4000\n",
        "eval_interval = 100\n",
        "learning_rate = 1e-3\n",
        "device = 'cuda' if torch.cuda.is_available() else 'cpu'\n",
        "eval_iters = 200\n",
        "n_embd = 64\n",
        "n_head = 4\n",
        "n_layer = 6\n",
        "dropout = 0.2\n",
        "\n",
        "score_size=3\n",
        "# ------------\n",
        "feel_count=16\n",
        "feel_embd=32\n",
        "# ------------\n",
        "\n",
        "\n",
        "torch.manual_seed(1337)"
      ],
      "metadata": {
        "id": "0TdMs5CMjIvY",
        "outputId": "dd175867-cffa-429e-bdfe-81884d4a6483",
        "colab": {
          "base_uri": "https://localhost:8080/"
        }
      },
      "execution_count": 1,
      "outputs": [
        {
          "output_type": "execute_result",
          "data": {
            "text/plain": [
              "<torch._C.Generator at 0x7bbb2c0fdb10>"
            ]
          },
          "metadata": {},
          "execution_count": 1
        }
      ]
    },
    {
      "cell_type": "markdown",
      "source": [
        "# Data loading"
      ],
      "metadata": {
        "id": "Q5Yk9RulkNbo"
      }
    },
    {
      "cell_type": "code",
      "execution_count": 2,
      "metadata": {
        "id": "dgJN0y6_IB-X",
        "outputId": "b200a59f-296e-49d6-cbfe-528bec7dd892",
        "colab": {
          "base_uri": "https://localhost:8080/"
        }
      },
      "outputs": [
        {
          "output_type": "stream",
          "name": "stdout",
          "text": [
            "--2025-01-17 06:44:09--  https://raw.githubusercontent.com/BlastOfMihh/TennisMania/refs/heads/model/tt%20csv%20artificial.CSV\n",
            "Resolving raw.githubusercontent.com (raw.githubusercontent.com)... 185.199.109.133, 185.199.108.133, 185.199.110.133, ...\n",
            "Connecting to raw.githubusercontent.com (raw.githubusercontent.com)|185.199.109.133|:443... connected.\n",
            "HTTP request sent, awaiting response... 200 OK\n",
            "Length: 3554 (3.5K) [text/plain]\n",
            "Saving to: ‘tt csv artificial.CSV’\n",
            "\n",
            "tt csv artificial.C 100%[===================>]   3.47K  --.-KB/s    in 0s      \n",
            "\n",
            "2025-01-17 06:44:10 (52.5 MB/s) - ‘tt csv artificial.CSV’ saved [3554/3554]\n",
            "\n",
            "75 124 49\n"
          ]
        }
      ],
      "source": [
        "from google.colab import drive\n",
        "import pandas as pd\n",
        "\n",
        "#drive.mount('/content/drive')\n",
        "#with open(\"/content/drive/MyDrive/LLm fighthing/karamazov.txt\", \"r\", encoding=\"utf-8\") as f:\n",
        "#  text=f.read()\n",
        "\n",
        "!wget \"https://raw.githubusercontent.com/BlastOfMihh/TennisMania/refs/heads/model/tt%20csv%20artificial.CSV\"\n",
        "one_csv_path=\"./tt csv artificial.CSV\"\n",
        "\n",
        "df=pd.read_csv(one_csv_path)\n",
        "df = df.drop(df.columns[0], axis=1)\n",
        "df\n",
        "\n",
        "hb_column = df.iloc[:, 0]\n",
        "min_hb = hb_column.min()\n",
        "max_hb = hb_column.max()\n",
        "diff_hb = max_hb - min_hb + 1\n",
        "print(min_hb, max_hb, max_hb-min_hb)\n",
        "\n",
        "\n"
      ]
    },
    {
      "source": [
        "first_column = df.iloc[:, 0]"
      ],
      "cell_type": "code",
      "metadata": {
        "id": "hjQvmqwag_Wc"
      },
      "execution_count": 3,
      "outputs": []
    },
    {
      "cell_type": "markdown",
      "source": [
        "#Creating the dataset, Encoder, Decoder\n"
      ],
      "metadata": {
        "id": "0RAxnyLIegE-"
      }
    },
    {
      "cell_type": "code",
      "source": [
        "# here are all the unique characters that occur in this text\n",
        "#chars = sorted(list(set(text)))\n",
        "# chars=[]\n",
        "# heart_beat_min = df.iloc[:, 0].min()\n",
        "# heart_beat_max = df.iloc[:, 0].max()\n",
        "# for hb in range(heart_beat_min, heart_beat_max):\n",
        "#   for p1 in range(0,12):\n",
        "#     for p1 in range(0,12):\n",
        "#       chars.append()\n",
        "#\n",
        "# def encode_(hb, p1, p2):\n",
        "#   return hb*1000+p2*100+p1\n",
        "#\n",
        "#\n",
        "# for i in range(60)\n",
        "#\n",
        "# vocab_size = len(chars)\n",
        "# # create a mapping from characters to integers\n",
        "# stoi = { ch:i for i,ch in enumerate(chars) }\n",
        "# itos = { i:ch for i,ch in enumerate(chars) }\n",
        "# encode = lambda s: [stoi[c] for c in s] # encoder: take a string, output a list of integers\n",
        "# decode = lambda l: ''.join([itos[i] for i in l]) # decoder: take a list of integers, output a string\n",
        "\n",
        "# Train and test splits\n",
        "#data = torch.tensor(encode(text), dtype=torch.long)\n",
        "\n",
        "\n",
        "\n",
        "\n",
        "\n",
        "csv_tensor=torch.tensor(df.values)\n",
        "\n",
        "\n",
        "data = torch.stack([csv_tensor]*100, dim=0).to(device)\n",
        "\n",
        "n = int(0.9*len(data)) # first 90% will be train, rest val\n",
        "train_data = data[:n]\n",
        "val_data = data[n:]\n",
        "\n",
        "# data loading\n",
        "def pick_block(x):\n",
        "  start=torch.randint(0, len(x)-block_size+1 -1, (1,))\n",
        "  return x[start:start+block_size-1],  x[start+1:start+block_size-1+1]\n",
        "\n",
        "def get_batch(split):\n",
        "    # generate a small batch of data of inputs x and targets y\n",
        "    data = train_data if split == 'train' else val_data\n",
        "\n",
        "    ix = torch.randint(0, len(data), (batch_size,))\n",
        "\n",
        "    data_blocks=[pick_block(data[i]) for i in ix]\n",
        "    x=torch.stack([block[0] for block in data_blocks], dim=0).to(device)\n",
        "    y=torch.stack([block[1] for block in data_blocks], dim=0).to(device)\n",
        "\n",
        "    return x, y\n",
        "\n",
        "get_batch('train')[0].shape\n",
        "\n"
      ],
      "metadata": {
        "id": "wm1JwxmLehx0",
        "outputId": "5e3006bf-7def-4589-f332-f5969a995236",
        "colab": {
          "base_uri": "https://localhost:8080/"
        }
      },
      "execution_count": 4,
      "outputs": [
        {
          "output_type": "execute_result",
          "data": {
            "text/plain": [
              "torch.Size([8, 31, 3])"
            ]
          },
          "metadata": {},
          "execution_count": 4
        }
      ]
    },
    {
      "cell_type": "markdown",
      "source": [
        "# F Model\n"
      ],
      "metadata": {
        "id": "HU12R4dqeqOw"
      }
    },
    {
      "cell_type": "code",
      "source": [
        "# The feel stuff\n",
        "class FeelHead(nn.Module):\n",
        "    \"\"\" one head of self-attention \"\"\"\n",
        "    def __init__(self, head_size):\n",
        "        super().__init__()\n",
        "        self.query = nn.Linear(n_embd, head_size, bias=False)\n",
        "        self.key = nn.Linear(feel_embd, head_size, bias=False)\n",
        "\n",
        "        self.value = nn.Linear(feel_embd, head_size, bias=False)\n",
        "\n",
        "        self.feelings = torch.rand(feel_count, feel_embd).to(device)\n",
        "\n",
        "        #self.register_buffer('tril', torch.tril(torch.ones(block_size, block_size)))\n",
        "        self.dropout = nn.Dropout(dropout)\n",
        "\n",
        "    def forward(self, x):\n",
        "        B,T,C = x.shape\n",
        "        q = self.query(x) # (B,T,C)\n",
        "\n",
        "        k = self.key(self.feelings) # (f_cnt, C)\n",
        "        k = k.expand(B, -1,-1) # (B, F_cnt, C)\n",
        "\n",
        "        # compute attention scores (\"affinities\")\n",
        "        wei = q @ k.transpose(-2,-1) * C**-0.5 # (B, T, C) @ (B, C, F_cnt) -> (B, T, F_cnt)\n",
        "        #wei = wei.masked_fill(self.tril[:T, :T] == 0, float('-inf')) # (B, T, )\n",
        "        wei = F.softmax(wei, dim=-1) # (B, T, T)\n",
        "        wei = self.dropout(wei)\n",
        "        # perform the weighted aggregation of the values\n",
        "        v = self.value(self.feelings) # (f_cnt, C)\n",
        "        v = v.expand(B,-1,-1) # (B, F_cnt, C)\n",
        "        out = wei @ v # (B, T, F_cnt) @ (B, F_cnt, C) -> (B, T, C)\n",
        "        return out\n",
        "\n",
        "\n",
        "class MultiHeadFeeling(nn.Module):\n",
        "    \"\"\" multiple heads of self-attention in parallel \"\"\"\n",
        "\n",
        "    def __init__(self, num_heads, head_size):\n",
        "        super().__init__()\n",
        "        self.heads = nn.ModuleList([FeelHead(head_size) for _ in range(num_heads)])\n",
        "        self.proj = nn.Linear(n_embd, n_embd)\n",
        "        self.dropout = nn.Dropout(dropout)\n",
        "\n",
        "    def forward(self, x):\n",
        "        out = torch.cat([h(x) for h in self.heads], dim=-1)\n",
        "        out = self.dropout(self.proj(out))\n",
        "        return out"
      ],
      "metadata": {
        "id": "ynNnlYyEi1bP"
      },
      "execution_count": 5,
      "outputs": []
    },
    {
      "cell_type": "markdown",
      "source": [
        "# Model Regular"
      ],
      "metadata": {
        "id": "Je_X6PsN0qk3"
      }
    },
    {
      "cell_type": "code",
      "source": [
        "class Head(nn.Module):\n",
        "    \"\"\" one head of self-attention \"\"\"\n",
        "    def __init__(self, head_size):\n",
        "        super().__init__()\n",
        "        self.key = nn.Linear(n_embd, head_size, bias=False)\n",
        "        self.query = nn.Linear(n_embd, head_size, bias=False)\n",
        "        self.value = nn.Linear(n_embd, head_size, bias=False)\n",
        "        self.register_buffer('tril', torch.tril(torch.ones(block_size, block_size)))\n",
        "\n",
        "        self.dropout = nn.Dropout(dropout)\n",
        "\n",
        "    def forward(self, x):\n",
        "        B,T,C = x.shape\n",
        "        k = self.key(x)   # (B,T,C)\n",
        "        q = self.query(x) # (B,T,C)\n",
        "        # compute attention scores (\"affinities\")\n",
        "        wei = q @ k.transpose(-2,-1) * C**-0.5 # (B, T, C) @ (B, C, T) -> (B, T, T)\n",
        "        wei = wei.masked_fill(self.tril[:T, :T] == 0, float('-inf')) # (B, T, T)\n",
        "        wei = F.softmax(wei, dim=-1) # (B, T, T)\n",
        "        wei = self.dropout(wei)\n",
        "        # perform the weighted aggregation of the values\n",
        "        v = self.value(x) # (B,T,C)\n",
        "        out = wei @ v # (B, T, T) @ (B, T, C) -> (B, T, C)\n",
        "        return out\n",
        "\n",
        "class MultiHeadAttention(nn.Module):\n",
        "    \"\"\" multiple heads of self-attention in parallel \"\"\"\n",
        "\n",
        "    def __init__(self, num_heads, head_size):\n",
        "        super().__init__()\n",
        "        self.heads = nn.ModuleList([Head(head_size) for _ in range(num_heads)])\n",
        "        self.proj = nn.Linear(n_embd, n_embd)\n",
        "        self.dropout = nn.Dropout(dropout)\n",
        "\n",
        "    def forward(self, x):\n",
        "        out = torch.cat([h(x) for h in self.heads], dim=-1)\n",
        "        out = self.dropout(self.proj(out))\n",
        "        return out\n",
        "\n",
        "class FeedFoward(nn.Module):\n",
        "    \"\"\" a simple linear layer followed by a non-linearity \"\"\"\n",
        "\n",
        "    def __init__(self, n_embd):\n",
        "        super().__init__()\n",
        "        self.net = nn.Sequential(\n",
        "            nn.Linear(n_embd, 4 * n_embd),\n",
        "            nn.ReLU(),\n",
        "            nn.Linear(4 * n_embd, n_embd),\n",
        "            nn.Dropout(dropout),\n",
        "        )\n",
        "\n",
        "    def forward(self, x):\n",
        "        return self.net(x)\n",
        "\n",
        "class Block(nn.Module):\n",
        "    \"\"\" Transformer block: communication followed by computation \"\"\"\n",
        "\n",
        "    def __init__(self, n_embd, n_head, model_type):\n",
        "        # n_embd: embedding dimension, n_head: the number of heads we'd like\n",
        "        super().__init__()\n",
        "        head_size = n_embd // n_head\n",
        "        self.sa = MultiHeadAttention(n_head, head_size)\n",
        "        self.ln1 = nn.LayerNorm(n_embd)\n",
        "\n",
        "        self.ffwd = FeedFoward(n_embd)\n",
        "        self.ln2 = nn.LayerNorm(n_embd)\n",
        "\n",
        "        self.model_type=model_type\n",
        "        if model_type=='feel':\n",
        "          self.mh_feel=MultiHeadFeeling(n_head, head_size)\n",
        "          self.ln3 = nn.LayerNorm(n_embd)\n",
        "\n",
        "    def forward(self, x):\n",
        "        x = x + self.sa(self.ln1(x))\n",
        "        if self.model_type=='feel':\n",
        "          x = x + self.mh_feel(self.ln3(x))\n",
        "        x = x + self.ffwd(self.ln2(x))\n",
        "        return x\n",
        "\n",
        "\n",
        "# super simple bigram model\n",
        "class BigramLanguageModel(nn.Module):\n",
        "\n",
        "    def __init__(self, model_type):\n",
        "        super().__init__()\n",
        "        # each token directly reads off the logits for the next token from a lookup table\n",
        "        self.token_embedding_table = nn.Linear(score_size, n_embd) # changed this\n",
        "        self.position_embedding_table = nn.Embedding(block_size, n_embd)\n",
        "        self.blocks = nn.Sequential(*[Block(n_embd, n_head=n_head, model_type=model_type) for _ in range(n_layer)])\n",
        "        self.ln_f = nn.LayerNorm(n_embd) # final layer norm\n",
        "        self.lm_head = nn.Linear(n_embd, diff_hb+12+12)\n",
        "\n",
        "    def forward(self, idx, targets=None):\n",
        "        B, T, _= idx.shape\n",
        "        idx=idx.to(torch.float32)\n",
        "        # idx and targets are both (B,T,3) tensor of integers\n",
        "        tok_emb = self.token_embedding_table(idx) # (B,T,C)\n",
        "        pos_emb = self.position_embedding_table(torch.arange(T, device=device)) # (T,C)\n",
        "        x = tok_emb + pos_emb # (B,T,C)\n",
        "        x = self.blocks(x) # (B,T,C)\n",
        "        x = self.ln_f(x) # (B,T,C)\n",
        "        logits = self.lm_head(x) # (B,T,3)\n",
        "\n",
        "        if targets is None:\n",
        "            loss = None\n",
        "\n",
        "            logits_hb = logits[:, :, :diff_hb]\n",
        "            logits_p1 = logits[:, :, diff_hb:diff_hb+12]\n",
        "            logits_p2 = logits[:, :, diff_hb+12:diff_hb+12+12]\n",
        "        else:\n",
        "            B, T, C = logits.shape\n",
        "\n",
        "            logits_hb = logits[:, :, :diff_hb].view(B*T, diff_hb)\n",
        "            logits_p1 = logits[:, :, diff_hb:diff_hb+12].view(B*T, 12)\n",
        "            logits_p2 = logits[:, :, diff_hb+12:diff_hb+12+12].view(B*T, 12)\n",
        "\n",
        "            targets_hb = targets[:, :, 0:1].view(B*T)\n",
        "            targets_p1 = targets[:, :, 1:2].view(B*T)\n",
        "            targets_p2 = targets[:, :, 2:3].view(B*T)\n",
        "\n",
        "            loss_hb = F.cross_entropy(logits_hb, targets_hb-torch.full((B*T,),min_hb))\n",
        "            loss_p1 = F.cross_entropy(logits_p1, targets_p1)\n",
        "            loss_p2 = F.cross_entropy(logits_p2, targets_p2)\n",
        "\n",
        "            loss = loss_hb + loss_p1 + loss_p2\n",
        "\n",
        "\n",
        "#            logits = logits.view(B*T, C)\n",
        "#            targets = targets.view(B*T)\n",
        "\n",
        "            #loss =  F.mse_loss(logits, targets) # changed this ?\n",
        "            #loss = F.cross_entropy(logits, targets)\n",
        "        return (logits_hb, logits_p1, logits_p2), loss\n",
        "\n",
        "    def generate(self, idx, max_new_tokens):\n",
        "        # idx is (B, T) array of indices in the current context\n",
        "        for _ in range(max_new_tokens):\n",
        "            # crop idx to the last block_size tokens\n",
        "            idx_cond = idx[:, -block_size:]\n",
        "            # get the predictions\n",
        "            (logits_hb, logits_p1, logits_p2), loss = self(idx_cond)\n",
        "            # focus only on the last time step\n",
        "            logits_hb = logits_hb[:, -1, :] # becomes (B, C)\n",
        "            logits_p1 = logits_p1[:, -1, :] # becomes (B, C)\n",
        "            logits_p2 = logits_p2[:, -1, :] # becomes (B, C)\n",
        "            # apply softmax to get probabilities\n",
        "            probs_hb = F.softmax(logits_hb, dim=-1) # (B, C)\n",
        "            probs_p1 = F.softmax(logits_p1, dim=-1) # (B, C)\n",
        "            probs_p2 = F.softmax(logits_p2, dim=-1) # (B, C)\n",
        "            # sample from the distribution\n",
        "            hb_next = torch.multinomial(probs_hb, num_samples=1) # (B, 1)\n",
        "            p1_next = torch.multinomial(probs_p1, num_samples=1) # (B, 1)\n",
        "            p2_next = torch.multinomial(probs_p2, num_samples=1) # (B, 1)\n",
        "\n",
        "            idx_next = torch.stack([hb_next+min_hb,p1_next,p2_next], dim=-1)\n",
        "            # breakpoint()\n",
        "            # append sampled index to the running sequence\n",
        "            idx = torch.cat((idx, idx_next), dim=1) # (B, T+1)\n",
        "        return idx\n",
        "\n",
        "model_sdf = BigramLanguageModel('regular').to(device)\n",
        "\n",
        "idx=torch.stack([torch.stack([torch.tensor([85.0, 0.0, 0.0])]).to(device)])\n",
        "model_sdf.generate(idx, 10)\n",
        "\n",
        "#m = model.to(device)\n",
        "# print the number of parameters in the model\n",
        "#print(sum(p.numel() for p in m.parameters())/1e6, 'M parameters')\n",
        "\n"
      ],
      "metadata": {
        "id": "7hIAkhOHenNa",
        "colab": {
          "base_uri": "https://localhost:8080/"
        },
        "outputId": "fe568cf4-7aac-4e9f-c9fe-66bb9152bd05"
      },
      "execution_count": 6,
      "outputs": [
        {
          "output_type": "execute_result",
          "data": {
            "text/plain": [
              "tensor([[[ 85.,   0.,   0.],\n",
              "         [122.,   6.,  11.],\n",
              "         [111.,   4.,  11.],\n",
              "         [ 79.,   6.,   4.],\n",
              "         [111.,   6.,   3.],\n",
              "         [ 83.,  11.,   6.],\n",
              "         [ 81.,   7.,   3.],\n",
              "         [ 97.,   5.,  11.],\n",
              "         [102.,  11.,   9.],\n",
              "         [ 82.,   3.,   0.],\n",
              "         [111.,   6.,   3.]]])"
            ]
          },
          "metadata": {},
          "execution_count": 6
        }
      ]
    },
    {
      "cell_type": "markdown",
      "source": [
        "#Training and loss estimation functions\n"
      ],
      "metadata": {
        "id": "lgcpT2pWe5OV"
      }
    },
    {
      "cell_type": "code",
      "source": [
        "@torch.no_grad()\n",
        "def estimate_loss(model):\n",
        "    out = {}\n",
        "    model.eval()\n",
        "    for split in ['train', 'val']:\n",
        "        losses = torch.zeros(eval_iters)\n",
        "        for k in range(eval_iters):\n",
        "            X, Y = get_batch(split)\n",
        "            logits, loss = model(X, Y)\n",
        "            losses[k] = loss.item()\n",
        "        out[split] = losses.mean()\n",
        "    model.train()\n",
        "    return out\n",
        "\n",
        "# create a PyTorch optimizer\n",
        "def get_optimizer(model):\n",
        "  return torch.optim.AdamW(model.parameters(), lr=learning_rate)\n",
        "\n",
        "def train_model(model, optimizer, history):\n",
        "  for iter in range(max_iters):\n",
        "\n",
        "      # every once in a while evaluate the loss on train and val sets\n",
        "      if iter % eval_interval == 0 or iter == max_iters - 1:\n",
        "          losses = estimate_loss(model)\n",
        "          print(f\"step {iter}: train loss {losses['train']:.4f}, val loss {losses['val']:.4f}\")\n",
        "          history['train'].append(losses['train'])\n",
        "          history['val'].append(losses['val'])\n",
        "\n",
        "      # sample a batch of data\n",
        "      xb, yb = get_batch('train')\n",
        "\n",
        "      # evaluate the loss\n",
        "      _, loss = model(xb, yb)\n",
        "      optimizer.zero_grad(set_to_none=True)\n",
        "      loss.backward()\n",
        "      optimizer.step()\n",
        "\n",
        "def generate_from_model(m):\n",
        "  # generate from the model\n",
        "  context = torch.zeros((1, 1), dtype=torch.long, device=device)\n",
        "  print((m.generate(context, max_new_tokens=2000)[0].tolist()))\n"
      ],
      "metadata": {
        "id": "otjwJ-5Be9HN"
      },
      "execution_count": 7,
      "outputs": []
    },
    {
      "cell_type": "markdown",
      "source": [
        "#Plotting and comparisions"
      ],
      "metadata": {
        "id": "hQ3Us6N-fn1g"
      }
    },
    {
      "cell_type": "code",
      "source": [
        "history_regular={\n",
        "  'train':[],\n",
        "  'val':[]\n",
        "}\n",
        "history_feel={\n",
        "  'train':[],\n",
        "  'val':[]\n",
        "}"
      ],
      "metadata": {
        "id": "StHzo3IFfRWQ"
      },
      "execution_count": 8,
      "outputs": []
    },
    {
      "cell_type": "code",
      "source": [
        "model_regular = BigramLanguageModel('regular').to(device)\n",
        "model_feel = BigramLanguageModel('feel').to(device)"
      ],
      "metadata": {
        "id": "URITk4f_g01v"
      },
      "execution_count": 9,
      "outputs": []
    },
    {
      "cell_type": "code",
      "source": [
        "optimizer_regular=get_optimizer(model_regular)\n",
        "optimizer_feel=get_optimizer(model_feel)"
      ],
      "metadata": {
        "id": "vtyTCqg6hWPU"
      },
      "execution_count": 10,
      "outputs": []
    },
    {
      "cell_type": "code",
      "source": [
        "train_model(model_feel, optimizer_feel, history_feel)\n",
        "train_model(model_regular, optimizer_regular, history_regular)"
      ],
      "metadata": {
        "colab": {
          "base_uri": "https://localhost:8080/"
        },
        "id": "HM7lA73uhhNt",
        "outputId": "512818f3-00ed-4350-af3f-b3bd91d93353"
      },
      "execution_count": 11,
      "outputs": [
        {
          "output_type": "stream",
          "name": "stdout",
          "text": [
            "step 0: train loss 8.9625, val loss 8.9729\n",
            "step 100: train loss 6.8877, val loss 6.8933\n",
            "step 200: train loss 5.5025, val loss 5.4781\n",
            "step 300: train loss 4.5575, val loss 4.5575\n",
            "step 400: train loss 4.3814, val loss 4.3776\n",
            "step 500: train loss 3.8378, val loss 3.8262\n",
            "step 600: train loss 3.5391, val loss 3.5497\n",
            "step 700: train loss 3.5878, val loss 3.5913\n",
            "step 800: train loss 3.3257, val loss 3.3089\n",
            "step 900: train loss 3.3392, val loss 3.3430\n",
            "step 1000: train loss 3.2033, val loss 3.2220\n",
            "step 1100: train loss 3.0331, val loss 3.0139\n",
            "step 1200: train loss 3.0054, val loss 2.9979\n",
            "step 1300: train loss 2.9521, val loss 2.9365\n",
            "step 1400: train loss 2.8105, val loss 2.8126\n",
            "step 1500: train loss 2.7626, val loss 2.7673\n",
            "step 1600: train loss 2.7198, val loss 2.7401\n",
            "step 1700: train loss 2.7351, val loss 2.7257\n",
            "step 1800: train loss 2.6409, val loss 2.6395\n",
            "step 1900: train loss 2.4921, val loss 2.4540\n",
            "step 2000: train loss 2.7284, val loss 2.7212\n",
            "step 2100: train loss 2.5261, val loss 2.5345\n",
            "step 2200: train loss 2.2917, val loss 2.2954\n",
            "step 2300: train loss 2.3412, val loss 2.3405\n",
            "step 2400: train loss 2.2527, val loss 2.2356\n",
            "step 2500: train loss 2.2862, val loss 2.2599\n",
            "step 2600: train loss 2.1157, val loss 2.1172\n",
            "step 2700: train loss 2.4066, val loss 2.4508\n",
            "step 2800: train loss 2.1112, val loss 2.1038\n",
            "step 2900: train loss 2.0892, val loss 2.1119\n",
            "step 3000: train loss 2.1026, val loss 2.1235\n",
            "step 3100: train loss 2.2678, val loss 2.2947\n",
            "step 3200: train loss 1.9091, val loss 1.9175\n",
            "step 3300: train loss 1.9148, val loss 1.9131\n",
            "step 3400: train loss 1.8736, val loss 1.8617\n",
            "step 3500: train loss 2.1208, val loss 2.1159\n",
            "step 3600: train loss 1.9565, val loss 1.9318\n",
            "step 3700: train loss 1.8573, val loss 1.8544\n",
            "step 3800: train loss 1.7479, val loss 1.7489\n",
            "step 3900: train loss 1.9375, val loss 1.9385\n",
            "step 3999: train loss 1.6887, val loss 1.6859\n",
            "step 0: train loss 8.7879, val loss 8.7867\n",
            "step 100: train loss 6.9773, val loss 7.0050\n",
            "step 200: train loss 5.8123, val loss 5.8394\n",
            "step 300: train loss 4.5754, val loss 4.5767\n",
            "step 400: train loss 4.4422, val loss 4.4711\n",
            "step 500: train loss 4.1829, val loss 4.1954\n",
            "step 600: train loss 3.5909, val loss 3.5800\n",
            "step 700: train loss 3.3660, val loss 3.3616\n",
            "step 800: train loss 3.2773, val loss 3.2839\n",
            "step 900: train loss 3.1002, val loss 3.1067\n",
            "step 1000: train loss 3.6640, val loss 3.6418\n",
            "step 1100: train loss 3.1980, val loss 3.1941\n",
            "step 1200: train loss 3.2183, val loss 3.1972\n",
            "step 1300: train loss 2.9552, val loss 2.9574\n",
            "step 1400: train loss 2.8313, val loss 2.8320\n",
            "step 1500: train loss 2.7743, val loss 2.7878\n",
            "step 1600: train loss 2.7475, val loss 2.7214\n",
            "step 1700: train loss 2.6810, val loss 2.6921\n",
            "step 1800: train loss 2.5934, val loss 2.5905\n",
            "step 1900: train loss 2.5272, val loss 2.5476\n",
            "step 2000: train loss 2.5556, val loss 2.5632\n",
            "step 2100: train loss 2.4933, val loss 2.4935\n",
            "step 2200: train loss 2.6398, val loss 2.6053\n",
            "step 2300: train loss 2.3326, val loss 2.3292\n",
            "step 2400: train loss 2.2658, val loss 2.2806\n",
            "step 2500: train loss 2.2755, val loss 2.2828\n",
            "step 2600: train loss 2.4518, val loss 2.4431\n",
            "step 2700: train loss 2.4050, val loss 2.3951\n",
            "step 2800: train loss 2.1594, val loss 2.1696\n",
            "step 2900: train loss 2.0731, val loss 2.0937\n",
            "step 3000: train loss 2.0942, val loss 2.0796\n",
            "step 3100: train loss 1.9840, val loss 1.9767\n",
            "step 3200: train loss 1.9774, val loss 1.9813\n",
            "step 3300: train loss 2.0979, val loss 2.0969\n",
            "step 3400: train loss 2.3015, val loss 2.2892\n",
            "step 3500: train loss 1.8832, val loss 1.8574\n",
            "step 3600: train loss 1.9136, val loss 1.9052\n",
            "step 3700: train loss 1.8166, val loss 1.8331\n",
            "step 3800: train loss 1.9195, val loss 1.9176\n",
            "step 3900: train loss 2.0060, val loss 2.0132\n",
            "step 3999: train loss 1.7564, val loss 1.7534\n"
          ]
        }
      ]
    },
    {
      "cell_type": "code",
      "source": [
        "import matplotlib.pyplot as plt\n",
        "\n",
        "plt.plot(history_regular['train'], label='Regular Train Loss', color='blue')\n",
        "plt.plot(history_regular['val'], label='Regular Validation Loss', color='lightblue')\n",
        "\n",
        "plt.plot(history_feel['train'], label='Feel Train Loss', color='red')\n",
        "plt.plot(history_feel['val'], label='Feel Validation Loss', color='salmon')\n",
        "\n",
        "plt.xlabel('Iteration')\n",
        "plt.ylabel('Loss')\n",
        "plt.title('Training and Validation Loss History')\n",
        "plt.legend()\n",
        "plt.show()"
      ],
      "metadata": {
        "id": "crqoJymEh4mj",
        "colab": {
          "base_uri": "https://localhost:8080/",
          "height": 472
        },
        "outputId": "46eca5c6-397d-4548-b48d-439391c729e8"
      },
      "execution_count": 12,
      "outputs": [
        {
          "output_type": "display_data",
          "data": {
            "text/plain": [
              "<Figure size 640x480 with 1 Axes>"
            ],
            "image/png": "[encoded data removed]"
          },
          "metadata": {}
        }
      ]
    },
    {
      "cell_type": "code",
      "source": [
        "\n",
        "context=torch.stack([torch.stack([torch.tensor([85.0, 0.0, 0.0])]).to(device)])\n",
        "generated_sequence = model_sdf.generate(context, max_new_tokens=100)[0].tolist()\n",
        "generated_sequence\n",
        "\n"
      ],
      "metadata": {
        "colab": {
          "base_uri": "https://localhost:8080/"
        },
        "id": "zemqMN-eoQ95",
        "outputId": "a951b65c-168b-4742-86ac-c83b56a94bc4"
      },
      "execution_count": 13,
      "outputs": [
        {
          "output_type": "execute_result",
          "data": {
            "text/plain": [
              "[[85.0, 0.0, 0.0],\n",
              " [122.0, 6.0, 3.0],\n",
              " [95.0, 6.0, 8.0],\n",
              " [94.0, 2.0, 9.0],\n",
              " [80.0, 9.0, 3.0],\n",
              " [81.0, 3.0, 3.0],\n",
              " [75.0, 3.0, 11.0],\n",
              " [115.0, 8.0, 3.0],\n",
              " [119.0, 5.0, 3.0],\n",
              " [89.0, 4.0, 11.0],\n",
              " [90.0, 11.0, 10.0],\n",
              " [118.0, 8.0, 0.0],\n",
              " [91.0, 10.0, 0.0],\n",
              " [80.0, 5.0, 3.0],\n",
              " [83.0, 6.0, 4.0],\n",
              " [118.0, 6.0, 6.0],\n",
              " [122.0, 4.0, 1.0],\n",
              " [95.0, 11.0, 6.0],\n",
              " [108.0, 10.0, 3.0],\n",
              " [94.0, 5.0, 7.0],\n",
              " [104.0, 6.0, 8.0],\n",
              " [113.0, 7.0, 4.0],\n",
              " [118.0, 6.0, 11.0],\n",
              " [78.0, 1.0, 7.0],\n",
              " [90.0, 5.0, 11.0],\n",
              " [111.0, 6.0, 7.0],\n",
              " [120.0, 9.0, 11.0],\n",
              " [85.0, 9.0, 2.0],\n",
              " [104.0, 7.0, 1.0],\n",
              " [106.0, 11.0, 1.0],\n",
              " [84.0, 4.0, 8.0],\n",
              " [124.0, 6.0, 3.0],\n",
              " [96.0, 6.0, 1.0],\n",
              " [98.0, 6.0, 9.0],\n",
              " [79.0, 6.0, 2.0],\n",
              " [97.0, 11.0, 11.0],\n",
              " [83.0, 5.0, 3.0],\n",
              " [124.0, 6.0, 11.0],\n",
              " [116.0, 6.0, 3.0],\n",
              " [111.0, 6.0, 11.0],\n",
              " [81.0, 11.0, 3.0],\n",
              " [111.0, 11.0, 2.0],\n",
              " [100.0, 4.0, 11.0],\n",
              " [122.0, 6.0, 10.0],\n",
              " [122.0, 2.0, 10.0],\n",
              " [93.0, 3.0, 7.0],\n",
              " [82.0, 11.0, 11.0],\n",
              " [111.0, 11.0, 3.0],\n",
              " [84.0, 6.0, 11.0],\n",
              " [79.0, 1.0, 5.0],\n",
              " [75.0, 6.0, 9.0],\n",
              " [119.0, 10.0, 3.0],\n",
              " [93.0, 0.0, 9.0],\n",
              " [106.0, 7.0, 0.0],\n",
              " [111.0, 6.0, 1.0],\n",
              " [84.0, 7.0, 11.0],\n",
              " [108.0, 6.0, 11.0],\n",
              " [112.0, 4.0, 11.0],\n",
              " [76.0, 6.0, 3.0],\n",
              " [91.0, 11.0, 4.0],\n",
              " [82.0, 5.0, 1.0],\n",
              " [79.0, 9.0, 2.0],\n",
              " [78.0, 2.0, 10.0],\n",
              " [114.0, 6.0, 10.0],\n",
              " [109.0, 6.0, 3.0],\n",
              " [99.0, 4.0, 10.0],\n",
              " [108.0, 7.0, 10.0],\n",
              " [109.0, 5.0, 3.0],\n",
              " [77.0, 11.0, 6.0],\n",
              " [96.0, 8.0, 9.0],\n",
              " [79.0, 6.0, 11.0],\n",
              " [122.0, 6.0, 8.0],\n",
              " [78.0, 6.0, 8.0],\n",
              " [118.0, 6.0, 10.0],\n",
              " [123.0, 0.0, 11.0],\n",
              " [91.0, 6.0, 1.0],\n",
              " [82.0, 6.0, 10.0],\n",
              " [86.0, 0.0, 9.0],\n",
              " [119.0, 10.0, 8.0],\n",
              " [94.0, 2.0, 3.0],\n",
              " [124.0, 6.0, 11.0],\n",
              " [123.0, 11.0, 7.0],\n",
              " [117.0, 5.0, 8.0],\n",
              " [124.0, 11.0, 8.0],\n",
              " [87.0, 5.0, 7.0],\n",
              " [83.0, 3.0, 7.0],\n",
              " [108.0, 6.0, 7.0],\n",
              " [108.0, 6.0, 7.0],\n",
              " [112.0, 3.0, 8.0],\n",
              " [83.0, 4.0, 4.0],\n",
              " [118.0, 9.0, 6.0],\n",
              " [84.0, 11.0, 6.0],\n",
              " [109.0, 7.0, 7.0],\n",
              " [118.0, 6.0, 3.0],\n",
              " [121.0, 0.0, 9.0],\n",
              " [120.0, 6.0, 3.0],\n",
              " [79.0, 6.0, 9.0],\n",
              " [96.0, 6.0, 10.0],\n",
              " [78.0, 3.0, 10.0],\n",
              " [86.0, 6.0, 11.0],\n",
              " [122.0, 11.0, 11.0]]"
            ]
          },
          "metadata": {},
          "execution_count": 13
        }
      ]
    },
    {
      "cell_type": "code",
      "source": [
        "import pickle\n",
        "\n",
        "# Assuming 'model_regular' is your trained model\n",
        "with open('model_regular.pkl', 'wb') as f:\n",
        "    pickle.dump(model_regular, f)"
      ],
      "metadata": {
        "id": "o5eTcoaxvTwz"
      },
      "execution_count": 14,
      "outputs": []
    },
    {
      "cell_type": "code",
      "source": [
        "sth=torch.stack([\n",
        "        torch.tensor([85, 11, 12 ]),\n",
        "        torch.tensor([95, 21, 22 ]) ,\n",
        "        torch.tensor([105, 31, 32])\n",
        "        ]\n",
        "                 ).to(device)\n",
        "\n",
        "sth.shape\n",
        "\n",
        "one=sth[:, 0:1]\n",
        "two=sth[:, 1:2]\n",
        "three=sth[:, 2:3]\n",
        "\n",
        "torch.cat([one,two, three], dim=-1)"
      ],
      "metadata": {
        "colab": {
          "base_uri": "https://localhost:8080/"
        },
        "id": "ezW_FqW20r8y",
        "outputId": "3223cb50-a9f5-4cf9-aaa0-56b333807f44"
      },
      "execution_count": 15,
      "outputs": [
        {
          "output_type": "execute_result",
          "data": {
            "text/plain": [
              "tensor([[ 85,  11,  12],\n",
              "        [ 95,  21,  22],\n",
              "        [105,  31,  32]])"
            ]
          },
          "metadata": {},
          "execution_count": 15
        }
      ]
    }
  ],
  "metadata": {
    "accelerator": "GPU",
    "colab": {
      "gpuType": "T4",
      "provenance": []
    },
    "kernelspec": {
      "display_name": "Python 3",
      "name": "python3"
    },
    "language_info": {
      "name": "python"
    }
  },
  "nbformat": 4,
  "nbformat_minor": 0
}